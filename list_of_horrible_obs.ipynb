{
 "cells": [
  {
   "cell_type": "code",
   "execution_count": 2,
   "id": "fa05bf01",
   "metadata": {},
   "outputs": [],
   "source": [
    "import pickle\n",
    "import pandas as pd"
   ]
  },
  {
   "cell_type": "code",
   "execution_count": 3,
   "id": "383002e8",
   "metadata": {},
   "outputs": [
    {
     "data": {
      "text/plain": [
       "(200872, 4)"
      ]
     },
     "execution_count": 3,
     "metadata": {},
     "output_type": "execute_result"
    }
   ],
   "source": [
    "with open(\"output/base_wofost.pkl\", \"rb\") as f:\n",
    "    df = pickle.load(f)\n",
    "df.shape"
   ]
  },
  {
   "cell_type": "code",
   "execution_count": 7,
   "id": "365d4cf0",
   "metadata": {},
   "outputs": [],
   "source": [
    "values = list(df.loc[df[\"TWSO\"].isnull(), \"id\"])"
   ]
  },
  {
   "cell_type": "code",
   "execution_count": 10,
   "id": "e1da9116",
   "metadata": {},
   "outputs": [],
   "source": [
    "with open(\"values.txt\", \"w\") as f:\n",
    "    for value in values:\n",
    "        f.write(f\"- {value}\\n\")"
   ]
  }
 ],
 "metadata": {
  "kernelspec": {
   "display_name": "py3_pcse",
   "language": "python",
   "name": "python3"
  },
  "language_info": {
   "codemirror_mode": {
    "name": "ipython",
    "version": 3
   },
   "file_extension": ".py",
   "mimetype": "text/x-python",
   "name": "python",
   "nbconvert_exporter": "python",
   "pygments_lexer": "ipython3",
   "version": "3.10.16"
  }
 },
 "nbformat": 4,
 "nbformat_minor": 5
}
